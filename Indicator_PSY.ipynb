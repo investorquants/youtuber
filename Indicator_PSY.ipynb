{
 "cells": [
  {
   "cell_type": "markdown",
   "metadata": {},
   "source": [
    "# To Analyze PSY indicator with SPY data\n",
    "\n",
    "## Introduction & Library Imports\n",
    "\n",
    "The S&P 500 is the world's most popular stock market index. The largest fund that is benchmarked to this index is the SPDR® S&P 500® ETF Trust. It has more than US$250 billion of assets under management.\n",
    "\n",
    "The goal of this section of the course is to create a Python script that will accept the value of your portfolio and tell you how many shares of each S&P 500 constituent you should purchase to get an equal-weight version of the index fund.\n",
    "\n",
    "## Library Imports"
   ]
  },
  {
   "cell_type": "code",
   "execution_count": 30,
   "metadata": {},
   "outputs": [],
   "source": [
    "import matplotlib.pyplot as plt\n",
    "import pandas_datareader.data as web\n",
    "import pandas as pd\n",
    "import numpy as np"
   ]
  },
  {
   "cell_type": "markdown",
   "metadata": {},
   "source": [
    "## Get SPY data from yahoo finance"
   ]
  },
  {
   "cell_type": "code",
   "execution_count": 32,
   "metadata": {},
   "outputs": [],
   "source": [
    "stock_ticker = 'SPY'\n",
    "start = pd.to_datetime(['2012-01-01']).astype(int)[0]//10**9 # convert to unix timestamp.\n",
    "end = pd.to_datetime(['2022-01-31']).astype(int)[0]//10**9 # convert to unix timestamp.\n",
    "url = 'https://query1.finance.yahoo.com/v7/finance/download/' + stock_ticker + '?period1=' + str(start) + '&period2=' + str(end) + '&interval=1d&events=history'\n",
    "df = pd.read_csv(url)"
   ]
  },
  {
   "cell_type": "code",
   "execution_count": 33,
   "metadata": {},
   "outputs": [
    {
     "name": "stdout",
     "output_type": "stream",
     "text": [
      "<class 'pandas.core.frame.DataFrame'>\n",
      "RangeIndex: 2516 entries, 0 to 2515\n",
      "Data columns (total 7 columns):\n",
      "Date         2516 non-null object\n",
      "Open         2516 non-null float64\n",
      "High         2516 non-null float64\n",
      "Low          2516 non-null float64\n",
      "Close        2516 non-null float64\n",
      "Adj Close    2516 non-null float64\n",
      "Volume       2516 non-null int64\n",
      "dtypes: float64(5), int64(1), object(1)\n",
      "memory usage: 137.7+ KB\n"
     ]
    }
   ],
   "source": [
    "df.info()"
   ]
  },
  {
   "cell_type": "markdown",
   "metadata": {},
   "source": [
    "## Add more information"
   ]
  },
  {
   "cell_type": "code",
   "execution_count": 34,
   "metadata": {},
   "outputs": [],
   "source": [
    "df.loc[df['Close'] >= df['Open'], 'st'] = 'increase'\n",
    "df.loc[df['Close'] < df['Open'], 'st'] = 'decrease'\n",
    "df['gaps'] = df['Close'] - df['Open']\n",
    "df['per'] = (df['gaps']/df['Open']) * 100"
   ]
  },
  {
   "cell_type": "code",
   "execution_count": 36,
   "metadata": {},
   "outputs": [],
   "source": [
    "df['psy'] = 0\n",
    "df.loc[0:12, 'psy'] = 50"
   ]
  },
  {
   "cell_type": "markdown",
   "metadata": {},
   "source": [
    "## Caculate PSY value for each day"
   ]
  },
  {
   "cell_type": "code",
   "execution_count": 39,
   "metadata": {},
   "outputs": [
    {
     "name": "stderr",
     "output_type": "stream",
     "text": [
      "C:\\Users\\hyman.qiu\\AppData\\Local\\Continuum\\anaconda3\\lib\\site-packages\\ipykernel_launcher.py:3: UserWarning: Boolean Series key will be reindexed to match DataFrame index.\n",
      "  This is separate from the ipykernel package so we can avoid doing imports until\n"
     ]
    }
   ],
   "source": [
    "for i in range(12, df.shape[0]):\n",
    "    #increase_amount = df.iloc[i-12:i][df['st'] == 'increase']\n",
    "    df.loc[i, 'psy'] = int((df.loc[i-12:i][df['st'] == 'increase']['st'].count()/12) * 100)"
   ]
  },
  {
   "cell_type": "code",
   "execution_count": 65,
   "metadata": {},
   "outputs": [],
   "source": [
    "df.to_excel(r'C:\\Works\\stock.xls')"
   ]
  },
  {
   "cell_type": "markdown",
   "metadata": {},
   "source": [
    "## Caculate the prediction successful rate for Over Bought Zone and Over Sold Zone"
   ]
  },
  {
   "cell_type": "code",
   "execution_count": 54,
   "metadata": {},
   "outputs": [],
   "source": [
    "buy_day_good_amount = 0\n",
    "buy_day_ng_amount = 0\n",
    "buy_week_good_amount = 0\n",
    "buy_week_ng_amount = 0\n",
    "buy_mon_good_amount = 0\n",
    "buy_mon_ng_amount = 0"
   ]
  },
  {
   "cell_type": "code",
   "execution_count": 55,
   "metadata": {},
   "outputs": [],
   "source": [
    "sale_day_good_amount = 0\n",
    "sale_day_ng_amount = 0\n",
    "sale_week_good_amount = 0\n",
    "sale_week_ng_amount = 0\n",
    "sale_mon_good_amount = 0\n",
    "sale_mon_ng_amount = 0"
   ]
  },
  {
   "cell_type": "code",
   "execution_count": 73,
   "metadata": {},
   "outputs": [
    {
     "name": "stdout",
     "output_type": "stream",
     "text": [
      "date:  2012-01-23\n",
      "date:  2012-01-25\n",
      "date:  2012-01-26\n",
      "date:  2012-01-27\n",
      "date:  2012-01-30\n",
      "date:  2012-02-03\n",
      "date:  2012-02-09\n",
      "date:  2012-02-13\n",
      "date:  2012-02-14\n",
      "date:  2012-03-13\n",
      "date:  2012-03-26\n",
      "date:  2012-03-27\n",
      "date:  2012-07-03\n",
      "date:  2012-07-05\n",
      "date:  2012-07-06\n",
      "date:  2012-07-13\n",
      "date:  2012-07-30\n",
      "date:  2012-08-10\n",
      "date:  2012-08-20\n",
      "date:  2012-08-22\n",
      "date:  2012-09-24\n",
      "date:  2012-11-30\n",
      "date:  2012-12-03\n",
      "date:  2013-01-15\n",
      "date:  2013-01-25\n",
      "date:  2013-01-29\n",
      "date:  2013-01-30\n",
      "date:  2013-02-01\n",
      "date:  2013-02-06\n",
      "date:  2013-03-14\n",
      "date:  2013-04-11\n",
      "date:  2013-04-12\n",
      "date:  2013-04-16\n",
      "date:  2013-04-17\n",
      "date:  2013-04-25\n",
      "date:  2013-04-30\n",
      "date:  2013-05-08\n",
      "date:  2013-05-15\n",
      "date:  2013-05-17\n",
      "date:  2013-05-21\n",
      "date:  2013-05-22\n",
      "date:  2013-05-23\n",
      "date:  2013-05-28\n",
      "date:  2013-05-30\n",
      "date:  2013-07-15\n",
      "date:  2013-07-22\n",
      "date:  2013-07-23\n",
      "date:  2013-07-26\n",
      "date:  2013-10-14\n",
      "date:  2013-10-22\n",
      "date:  2013-10-29\n",
      "date:  2013-10-30\n",
      "date:  2013-11-04\n",
      "date:  2013-11-06\n",
      "date:  2013-11-11\n",
      "date:  2013-11-15\n",
      "date:  2013-11-18\n",
      "date:  2013-11-19\n",
      "date:  2013-11-22\n",
      "date:  2014-02-18\n",
      "date:  2014-02-20\n",
      "date:  2014-02-24\n",
      "date:  2014-05-01\n",
      "date:  2014-06-10\n",
      "date:  2014-06-11\n",
      "date:  2014-06-19\n",
      "date:  2014-06-20\n",
      "date:  2014-06-23\n",
      "date:  2014-06-25\n",
      "date:  2014-07-03\n",
      "date:  2014-07-14\n",
      "date:  2014-08-26\n",
      "date:  2014-08-29\n",
      "date:  2014-09-02\n",
      "date:  2014-10-28\n",
      "date:  2014-11-03\n",
      "date:  2014-11-18\n",
      "date:  2014-11-24\n",
      "date:  2014-11-26\n",
      "date:  2014-11-28\n",
      "date:  2015-02-18\n",
      "date:  2015-02-20\n",
      "date:  2015-02-24\n",
      "date:  2015-02-25\n",
      "date:  2015-02-26\n",
      "date:  2015-03-02\n",
      "date:  2015-03-03\n",
      "date:  2015-04-15\n",
      "date:  2015-04-16\n",
      "date:  2015-04-20\n",
      "date:  2015-04-24\n",
      "date:  2015-10-19\n",
      "date:  2015-10-20\n",
      "date:  2015-10-23\n",
      "date:  2015-10-28\n",
      "date:  2015-10-29\n",
      "date:  2015-11-03\n",
      "date:  2015-11-04\n",
      "date:  2015-12-29\n",
      "date:  2016-02-25\n",
      "date:  2016-02-26\n",
      "date:  2016-03-07\n",
      "date:  2016-03-11\n",
      "date:  2016-03-14\n",
      "date:  2016-03-17\n",
      "date:  2016-03-21\n",
      "date:  2016-03-22\n",
      "date:  2016-03-23\n",
      "date:  2016-03-30\n",
      "date:  2016-04-01\n",
      "date:  2016-06-02\n",
      "date:  2016-06-08\n",
      "date:  2016-06-09\n",
      "date:  2016-06-10\n",
      "date:  2016-06-13\n",
      "date:  2016-06-14\n",
      "date:  2016-06-16\n",
      "date:  2016-07-12\n",
      "date:  2016-08-15\n",
      "date:  2016-08-18\n",
      "date:  2016-08-19\n",
      "date:  2016-08-23\n",
      "date:  2016-08-25\n",
      "date:  2016-08-29\n",
      "date:  2016-11-25\n",
      "date:  2016-11-29\n",
      "date:  2016-11-30\n",
      "date:  2016-12-09\n",
      "date:  2016-12-13\n",
      "date:  2016-12-15\n",
      "date:  2016-12-20\n",
      "date:  2016-12-21\n",
      "date:  2017-01-20\n",
      "date:  2017-02-15\n",
      "date:  2017-02-21\n",
      "date:  2017-02-27\n",
      "date:  2017-03-01\n",
      "date:  2017-03-03\n",
      "date:  2017-03-06\n",
      "date:  2017-05-25\n",
      "date:  2017-05-26\n",
      "date:  2017-05-30\n",
      "date:  2017-06-02\n",
      "date:  2017-06-05\n",
      "date:  2017-06-08\n",
      "date:  2017-06-09\n",
      "date:  2017-06-13\n",
      "date:  2017-06-14\n",
      "date:  2017-06-15\n",
      "date:  2017-06-19\n",
      "date:  2017-07-20\n",
      "date:  2017-07-21\n",
      "date:  2017-07-26\n",
      "date:  2017-07-28\n",
      "date:  2017-09-14\n",
      "date:  2017-09-22\n",
      "date:  2017-10-06\n",
      "date:  2017-10-11\n",
      "date:  2017-10-20\n",
      "date:  2017-11-13\n",
      "date:  2017-11-14\n",
      "date:  2017-11-16\n",
      "date:  2017-11-21\n",
      "date:  2017-11-24\n",
      "date:  2017-11-28\n",
      "date:  2018-01-12\n",
      "date:  2018-01-17\n",
      "date:  2018-01-23\n",
      "date:  2018-01-26\n",
      "date:  2018-05-14\n",
      "date:  2018-05-16\n",
      "date:  2018-05-17\n",
      "date:  2018-05-21\n",
      "date:  2018-05-23\n",
      "date:  2018-07-18\n",
      "date:  2018-07-19\n",
      "date:  2018-08-08\n",
      "date:  2018-08-21\n",
      "date:  2018-08-22\n",
      "date:  2018-08-29\n",
      "date:  2018-08-31\n",
      "date:  2018-09-04\n",
      "date:  2019-01-11\n",
      "date:  2019-01-18\n",
      "date:  2019-01-25\n",
      "date:  2019-01-28\n",
      "date:  2019-02-05\n",
      "date:  2019-02-27\n",
      "date:  2019-03-26\n",
      "date:  2019-04-08\n",
      "date:  2019-04-10\n",
      "date:  2019-05-16\n",
      "date:  2019-05-17\n",
      "date:  2019-05-21\n",
      "date:  2019-05-22\n",
      "date:  2019-05-24\n",
      "date:  2019-09-12\n",
      "date:  2019-09-18\n",
      "date:  2019-09-19\n",
      "date:  2019-10-21\n",
      "date:  2019-10-28\n",
      "date:  2019-10-30\n",
      "date:  2019-11-18\n",
      "date:  2019-11-19\n",
      "date:  2019-11-27\n",
      "date:  2020-01-17\n",
      "date:  2020-01-23\n",
      "date:  2020-01-28\n",
      "date:  2020-01-30\n",
      "date:  2020-02-06\n",
      "date:  2020-02-12\n",
      "date:  2020-02-14\n",
      "date:  2020-02-19\n",
      "date:  2020-02-20\n",
      "date:  2020-02-21\n",
      "date:  2020-03-30\n",
      "date:  2020-03-31\n",
      "date:  2020-04-02\n",
      "date:  2020-04-09\n",
      "date:  2020-06-03\n",
      "date:  2020-06-08\n",
      "date:  2020-06-09\n",
      "date:  2020-06-10\n",
      "date:  2020-06-16\n",
      "date:  2020-08-10\n",
      "date:  2020-08-12\n",
      "date:  2020-08-18\n",
      "date:  2020-08-28\n",
      "date:  2020-09-02\n",
      "date:  2020-09-03\n",
      "date:  2020-10-05\n",
      "date:  2020-10-12\n",
      "date:  2020-10-13\n",
      "date:  2020-11-16\n",
      "date:  2020-11-17\n",
      "date:  2020-11-19\n",
      "date:  2020-11-24\n",
      "date:  2020-12-08\n",
      "date:  2020-12-10\n",
      "date:  2020-12-11\n",
      "date:  2020-12-17\n",
      "date:  2020-12-18\n",
      "date:  2020-12-21\n",
      "date:  2021-01-13\n",
      "date:  2021-01-25\n",
      "date:  2021-04-05\n",
      "date:  2021-04-13\n",
      "date:  2021-04-16\n",
      "date:  2021-04-19\n",
      "date:  2021-04-21\n",
      "date:  2021-04-26\n",
      "date:  2021-05-24\n",
      "date:  2021-07-02\n",
      "date:  2021-07-07\n",
      "date:  2021-07-12\n",
      "date:  2021-07-14\n",
      "date:  2021-08-06\n",
      "date:  2021-08-16\n",
      "date:  2021-08-25\n",
      "date:  2021-08-30\n",
      "date:  2021-10-21\n",
      "date:  2021-12-27\n",
      "date:  2021-12-29\n"
     ]
    }
   ],
   "source": [
    "for i in range(0, df.shape[0]):\n",
    "    #The next day\n",
    "    if df.loc[i, 'psy'] >= 75:#超买, 操作上应该考虑未来股价应该会下跌，应该sales\n",
    "        if i+1 <= df.shape[0]: #Day\n",
    "            if df.loc[i, 'Close'] > df.loc[i+1, 'Close']:#day 下跌\n",
    "                print('date: ', df.loc[i, 'Date'])\n",
    "                sale_day_good_amount += 1\n",
    "            else:\n",
    "                sale_day_ng_amount += 1\n",
    "        if i+7 <= df.shape[0]:\n",
    "            if df.loc[i, 'Close'] > df.loc[i+7, 'Close']: #Week 下跌\n",
    "                sale_week_good_amount += 1\n",
    "            else:\n",
    "                sale_week_ng_amount += 1\n",
    "        if i+30 <= df.shape[0]:\n",
    "            if df.loc[i]['Close'] > df.loc[i+30]['Close']:#Month 下跌\n",
    "                sale_mon_good_amount += 1\n",
    "            else:\n",
    "                sale_mon_ng_amount += 1\n",
    "    elif df.loc[i, 'psy'] <= 25:#超卖，操作上应该考虑未来股价应该会上涨，应该buy\n",
    "        if i+1 <= df.shape[0]: #Day\n",
    "            if df.loc[i, 'Close'] < df.loc[i+1, 'Close']:\n",
    "                buy_day_good_amount += 1\n",
    "            else:\n",
    "                buy_day_ng_amount += 1\n",
    "        if i+7 <= df.shape[0]:\n",
    "            if df.loc[i, 'Close'] < df.loc[i+7, 'Close']: #Week\n",
    "                buy_week_good_amount += 1\n",
    "            else:\n",
    "                buy_week_ng_amount += 1\n",
    "        if i+30 <= df.shape[0]:\n",
    "            if df.loc[i]['Close'] < df.loc[i+30]['Close']:#Month\n",
    "                buy_mon_good_amount += 1\n",
    "            else:\n",
    "                buy_mon_ng_amount += 1"
   ]
  },
  {
   "cell_type": "code",
   "execution_count": 75,
   "metadata": {},
   "outputs": [
    {
     "data": {
      "text/plain": [
       "Date         584\n",
       "Open         584\n",
       "High         584\n",
       "Low          584\n",
       "Close        584\n",
       "Adj Close    584\n",
       "Volume       584\n",
       "st           584\n",
       "gaps         584\n",
       "per          584\n",
       "psy          584\n",
       "dtype: int64"
      ]
     },
     "execution_count": 75,
     "metadata": {},
     "output_type": "execute_result"
    }
   ],
   "source": [
    "df[df['psy'] >= 75].count()"
   ]
  },
  {
   "cell_type": "code",
   "execution_count": 87,
   "metadata": {},
   "outputs": [
    {
     "data": {
      "text/plain": [
       "1315"
      ]
     },
     "execution_count": 87,
     "metadata": {},
     "output_type": "execute_result"
    }
   ],
   "source": [
    "sale_day_good_amount"
   ]
  },
  {
   "cell_type": "code",
   "execution_count": 88,
   "metadata": {},
   "outputs": [
    {
     "data": {
      "text/plain": [
       "1605"
      ]
     },
     "execution_count": 88,
     "metadata": {},
     "output_type": "execute_result"
    }
   ],
   "source": [
    "sale_day_ng_amount"
   ]
  },
  {
   "cell_type": "code",
   "execution_count": 89,
   "metadata": {},
   "outputs": [],
   "source": [
    "buy_day_good_rate = buy_day_good_amount / (buy_day_good_amount+buy_day_ng_amount)\n",
    "buy_wk_good_rate = buy_week_good_amount / (buy_week_good_amount+buy_week_ng_amount)\n",
    "buy_mon_good_rate = buy_mon_good_amount / (buy_mon_good_amount+buy_mon_ng_amount)"
   ]
  },
  {
   "cell_type": "code",
   "execution_count": 90,
   "metadata": {},
   "outputs": [],
   "source": [
    "sale_day_good_rate = sale_day_good_amount / (sale_day_good_amount+sale_day_ng_amount)\n",
    "sale_wk_good_rate = sale_week_good_amount / (sale_week_good_amount+sale_week_ng_amount)\n",
    "sale_mon_good_rate = sale_mon_good_amount / (sale_mon_good_amount+sale_mon_ng_amount)"
   ]
  },
  {
   "cell_type": "code",
   "execution_count": 81,
   "metadata": {},
   "outputs": [
    {
     "data": {
      "text/plain": [
       "0.6"
      ]
     },
     "execution_count": 81,
     "metadata": {},
     "output_type": "execute_result"
    }
   ],
   "source": [
    "buy_day_good_rate"
   ]
  },
  {
   "cell_type": "code",
   "execution_count": 82,
   "metadata": {},
   "outputs": [
    {
     "data": {
      "text/plain": [
       "0.8"
      ]
     },
     "execution_count": 82,
     "metadata": {},
     "output_type": "execute_result"
    }
   ],
   "source": [
    "buy_wk_good_rate"
   ]
  },
  {
   "cell_type": "code",
   "execution_count": 83,
   "metadata": {},
   "outputs": [
    {
     "data": {
      "text/plain": [
       "0.8571428571428571"
      ]
     },
     "execution_count": 83,
     "metadata": {},
     "output_type": "execute_result"
    }
   ],
   "source": [
    "buy_mon_good_rate"
   ]
  },
  {
   "cell_type": "code",
   "execution_count": 91,
   "metadata": {},
   "outputs": [
    {
     "data": {
      "text/plain": [
       "0.4503424657534247"
      ]
     },
     "execution_count": 91,
     "metadata": {},
     "output_type": "execute_result"
    }
   ],
   "source": [
    "sale_day_good_rate"
   ]
  },
  {
   "cell_type": "code",
   "execution_count": 92,
   "metadata": {},
   "outputs": [
    {
     "data": {
      "text/plain": [
       "0.33448275862068966"
      ]
     },
     "execution_count": 92,
     "metadata": {},
     "output_type": "execute_result"
    }
   ],
   "source": [
    "sale_wk_good_rate"
   ]
  },
  {
   "cell_type": "code",
   "execution_count": 93,
   "metadata": {},
   "outputs": [
    {
     "data": {
      "text/plain": [
       "0.3086206896551724"
      ]
     },
     "execution_count": 93,
     "metadata": {},
     "output_type": "execute_result"
    }
   ],
   "source": [
    "sale_mon_good_rate"
   ]
  }
 ],
 "metadata": {
  "kernelspec": {
   "display_name": "Python 3",
   "language": "python",
   "name": "python3"
  },
  "language_info": {
   "codemirror_mode": {
    "name": "ipython",
    "version": 3
   },
   "file_extension": ".py",
   "mimetype": "text/x-python",
   "name": "python",
   "nbconvert_exporter": "python",
   "pygments_lexer": "ipython3",
   "version": "3.7.3"
  }
 },
 "nbformat": 4,
 "nbformat_minor": 4
}
